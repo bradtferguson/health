{
 "cells": [
  {
   "cell_type": "code",
   "execution_count": 14,
   "metadata": {},
   "outputs": [],
   "source": [
    "import myfitnesspal\n",
    "import datetime\n",
    "import pandas as pd\n",
    "import collections\n",
    "from typing import Dict, List"
   ]
  },
  {
   "cell_type": "code",
   "execution_count": 23,
   "metadata": {},
   "outputs": [],
   "source": [
    "client = myfitnesspal.Client('bradtferguson', password='Iluvet@k4ev')"
   ]
  },
  {
   "cell_type": "code",
   "execution_count": 4,
   "metadata": {},
   "outputs": [],
   "source": [
    "day = client.get_date(2021, 9, 9)\n"
   ]
  },
  {
   "cell_type": "code",
   "execution_count": null,
   "metadata": {},
   "outputs": [],
   "source": []
  },
  {
   "cell_type": "code",
   "execution_count": 5,
   "metadata": {},
   "outputs": [
    {
     "data": {
      "text/plain": [
       "<09/09/21 {'calories': 2178.0, 'carbohydrates': 277.0, 'fat': 54.0, 'protein': 167.0, 'sodium': 2404.0, 'sugar': 135.0}>"
      ]
     },
     "execution_count": 5,
     "metadata": {},
     "output_type": "execute_result"
    }
   ],
   "source": [
    "day"
   ]
  },
  {
   "cell_type": "code",
   "execution_count": 6,
   "metadata": {},
   "outputs": [
    {
     "data": {
      "text/plain": [
       "[]"
      ]
     },
     "execution_count": 6,
     "metadata": {},
     "output_type": "execute_result"
    }
   ],
   "source": [
    "day.exercises[1].get_as_list()"
   ]
  },
  {
   "cell_type": "code",
   "execution_count": 7,
   "metadata": {},
   "outputs": [
    {
     "ename": "IndexError",
     "evalue": "list index out of range",
     "output_type": "error",
     "traceback": [
      "\u001b[0;31m---------------------------------------------------------------------------\u001b[0m",
      "\u001b[0;31mIndexError\u001b[0m                                Traceback (most recent call last)",
      "\u001b[0;32m<ipython-input-7-207945f310ea>\u001b[0m in \u001b[0;36m<module>\u001b[0;34m\u001b[0m\n\u001b[0;32m----> 1\u001b[0;31m \u001b[0mday\u001b[0m\u001b[0;34m.\u001b[0m\u001b[0mexercises\u001b[0m\u001b[0;34m[\u001b[0m\u001b[0;36m1\u001b[0m\u001b[0;34m]\u001b[0m\u001b[0;34m.\u001b[0m\u001b[0mget_as_list\u001b[0m\u001b[0;34m(\u001b[0m\u001b[0;34m)\u001b[0m\u001b[0;34m[\u001b[0m\u001b[0;36m0\u001b[0m\u001b[0;34m]\u001b[0m\u001b[0;34m[\u001b[0m\u001b[0;34m'nutrition_information'\u001b[0m\u001b[0;34m]\u001b[0m\u001b[0;34m\u001b[0m\u001b[0;34m\u001b[0m\u001b[0m\n\u001b[0m",
      "\u001b[0;31mIndexError\u001b[0m: list index out of range"
     ]
    }
   ],
   "source": [
    "day.exercises[1].get_as_list()[0]['nutrition_information']"
   ]
  },
  {
   "cell_type": "code",
   "execution_count": null,
   "metadata": {},
   "outputs": [],
   "source": [
    "day.totals"
   ]
  },
  {
   "cell_type": "code",
   "execution_count": null,
   "metadata": {},
   "outputs": [],
   "source": [
    "Jan2021 = datetime.date(2021, 1, 1)"
   ]
  },
  {
   "cell_type": "markdown",
   "metadata": {},
   "source": [
    "# Rolling 7-day average of weight"
   ]
  },
  {
   "cell_type": "code",
   "execution_count": 39,
   "metadata": {},
   "outputs": [],
   "source": [
    "client = myfitnesspal.Client('bradtferguson', password='Iluvet@k4ev')"
   ]
  },
  {
   "cell_type": "code",
   "execution_count": 40,
   "metadata": {},
   "outputs": [],
   "source": [
    "start_date = datetime.date(2021, 1, 1)"
   ]
  },
  {
   "cell_type": "code",
   "execution_count": 44,
   "metadata": {},
   "outputs": [],
   "source": [
    "measurement='Weight'\n",
    "start_year = 2021\n",
    "start_month=1\n",
    "start_day=1\n",
    "start_date = datetime.date(start_year, start_month, start_day)\n",
    "measure_dict = client.get_measurements(measurement, start_date)\n",
    "measurements = []\n",
    "for key, value in measure_dict.items():\n",
    "    measurement = pd.DataFrame({\n",
    "        'date': [key],\n",
    "        'measurement': [value]\n",
    "    })\n",
    "    measurements.append(measurement)\n",
    "df = pd.concat(measurements)\n",
    "df = df.sort_values(by='date', ascending=True)\n",
    "df['MA'] = df.iloc[:,1].rolling(window=7).mean()\n",
    "df = df.sort_values(by='date', ascending=False)\n",
    "#df = df.drop(['measurement'], axis=1)\n",
    "#df = df.rename(columns={'MA': f'MA_{measurement}'})"
   ]
  },
  {
   "cell_type": "code",
   "execution_count": 46,
   "metadata": {},
   "outputs": [],
   "source": [
    "df = df.sort_values(by='date', ascending=False)\n"
   ]
  },
  {
   "cell_type": "code",
   "execution_count": 49,
   "metadata": {},
   "outputs": [],
   "source": [
    "test = df.rename(columns={'MA': f'MA_{measurement}'})"
   ]
  },
  {
   "cell_type": "code",
   "execution_count": 52,
   "metadata": {},
   "outputs": [
    {
     "data": {
      "text/html": [
       "<div>\n",
       "<style scoped>\n",
       "    .dataframe tbody tr th:only-of-type {\n",
       "        vertical-align: middle;\n",
       "    }\n",
       "\n",
       "    .dataframe tbody tr th {\n",
       "        vertical-align: top;\n",
       "    }\n",
       "\n",
       "    .dataframe thead th {\n",
       "        text-align: right;\n",
       "    }\n",
       "</style>\n",
       "<table border=\"1\" class=\"dataframe\">\n",
       "  <thead>\n",
       "    <tr style=\"text-align: right;\">\n",
       "      <th></th>\n",
       "      <th>date</th>\n",
       "      <th>measurement</th>\n",
       "    </tr>\n",
       "  </thead>\n",
       "  <tbody>\n",
       "    <tr>\n",
       "      <th>0</th>\n",
       "      <td>2021-01-01</td>\n",
       "      <td>168.9</td>\n",
       "    </tr>\n",
       "  </tbody>\n",
       "</table>\n",
       "</div>"
      ],
      "text/plain": [
       "         date  measurement\n",
       "0  2021-01-01        168.9"
      ]
     },
     "execution_count": 52,
     "metadata": {},
     "output_type": "execute_result"
    }
   ],
   "source": [
    "measurement"
   ]
  },
  {
   "cell_type": "code",
   "execution_count": 51,
   "metadata": {},
   "outputs": [
    {
     "data": {
      "text/plain": [
       "'MA_         date  measurement\\n0  2021-01-01        168.9'"
      ]
     },
     "execution_count": 51,
     "metadata": {},
     "output_type": "execute_result"
    }
   ],
   "source": [
    "f'MA_{measurement}'"
   ]
  },
  {
   "cell_type": "code",
   "execution_count": 54,
   "metadata": {},
   "outputs": [],
   "source": [
    "def get_measurements(measurement: str='Weight', start_year:int=2021, start_month:int=1, start_day:int=1):\n",
    "    start_date = datetime.date(start_year, start_month, start_day)\n",
    "    measure_dict = client.get_measurements(measurement, start_date)\n",
    "    measurements = []\n",
    "    for key, value in measure_dict.items():\n",
    "        temp = pd.DataFrame({\n",
    "            'date': [key],\n",
    "            'measurement': [value]\n",
    "        })\n",
    "        measurements.append(temp)\n",
    "    df = pd.concat(measurements)\n",
    "    df = df.sort_values(by='date', ascending=True)\n",
    "    df['MA'] = df.iloc[:,1].rolling(window=7).mean()\n",
    "    df = df.sort_values(by='date', ascending=False)\n",
    "    df = df.drop(['measurement'], axis=1)\n",
    "    df = df.rename(columns={'MA': f'MA_{measurement}'})\n",
    "    \n",
    "    return df"
   ]
  },
  {
   "cell_type": "code",
   "execution_count": 55,
   "metadata": {},
   "outputs": [],
   "source": [
    "weight = get_measurements()\n",
    "bodyfat = get_measurements('Body Fat %')"
   ]
  },
  {
   "cell_type": "code",
   "execution_count": 57,
   "metadata": {},
   "outputs": [
    {
     "data": {
      "text/html": [
       "<div>\n",
       "<style scoped>\n",
       "    .dataframe tbody tr th:only-of-type {\n",
       "        vertical-align: middle;\n",
       "    }\n",
       "\n",
       "    .dataframe tbody tr th {\n",
       "        vertical-align: top;\n",
       "    }\n",
       "\n",
       "    .dataframe thead th {\n",
       "        text-align: right;\n",
       "    }\n",
       "</style>\n",
       "<table border=\"1\" class=\"dataframe\">\n",
       "  <thead>\n",
       "    <tr style=\"text-align: right;\">\n",
       "      <th></th>\n",
       "      <th>date</th>\n",
       "      <th>MA_Body Fat %</th>\n",
       "    </tr>\n",
       "  </thead>\n",
       "  <tbody>\n",
       "    <tr>\n",
       "      <th>0</th>\n",
       "      <td>2021-09-12</td>\n",
       "      <td>17.800000</td>\n",
       "    </tr>\n",
       "    <tr>\n",
       "      <th>0</th>\n",
       "      <td>2021-09-11</td>\n",
       "      <td>17.728571</td>\n",
       "    </tr>\n",
       "    <tr>\n",
       "      <th>0</th>\n",
       "      <td>2021-09-10</td>\n",
       "      <td>17.900000</td>\n",
       "    </tr>\n",
       "    <tr>\n",
       "      <th>0</th>\n",
       "      <td>2021-09-09</td>\n",
       "      <td>17.942857</td>\n",
       "    </tr>\n",
       "    <tr>\n",
       "      <th>0</th>\n",
       "      <td>2021-09-08</td>\n",
       "      <td>18.042857</td>\n",
       "    </tr>\n",
       "  </tbody>\n",
       "</table>\n",
       "</div>"
      ],
      "text/plain": [
       "         date  MA_Body Fat %\n",
       "0  2021-09-12      17.800000\n",
       "0  2021-09-11      17.728571\n",
       "0  2021-09-10      17.900000\n",
       "0  2021-09-09      17.942857\n",
       "0  2021-09-08      18.042857"
      ]
     },
     "execution_count": 57,
     "metadata": {},
     "output_type": "execute_result"
    }
   ],
   "source": [
    "bodyfat.head()"
   ]
  },
  {
   "cell_type": "code",
   "execution_count": 19,
   "metadata": {},
   "outputs": [
    {
     "data": {
      "text/plain": [
       "<matplotlib.axes._subplots.AxesSubplot at 0x7fa3b8bedb80>"
      ]
     },
     "execution_count": 19,
     "metadata": {},
     "output_type": "execute_result"
    },
    {
     "data": {
      "image/png": "[encoded data removed]",
      "text/plain": [
       "<Figure size 432x288 with 1 Axes>"
      ]
     },
     "metadata": {
      "needs_background": "light"
     },
     "output_type": "display_data"
    }
   ],
   "source": [
    "weight.plot(x='date', y='MA')"
   ]
  },
  {
   "cell_type": "code",
   "execution_count": 12,
   "metadata": {},
   "outputs": [
    {
     "data": {
      "text/plain": [
       "<matplotlib.axes._subplots.AxesSubplot at 0x7fa3b8baebb0>"
      ]
     },
     "execution_count": 12,
     "metadata": {},
     "output_type": "execute_result"
    },
    {
     "data": {
      "image/png": "[encoded data removed]",
      "text/plain": [
       "<Figure size 432x288 with 1 Axes>"
      ]
     },
     "metadata": {
      "needs_background": "light"
     },
     "output_type": "display_data"
    }
   ],
   "source": [
    "bodyfat.plot(x='date', y='MA')"
   ]
  },
  {
   "cell_type": "code",
   "execution_count": 13,
   "metadata": {},
   "outputs": [],
   "source": [
    "# Rolling average of calories and macros"
   ]
  },
  {
   "cell_type": "code",
   "execution_count": 16,
   "metadata": {},
   "outputs": [],
   "source": [
    "import csv, sys, os\n",
    "from datetime import datetime\n",
    "\n",
    "# Get account info\n",
    "client = myfitnesspal.Client('bradtferguson', password='Iluvet@k4ev')# Set start year\n",
    "startYear = \"2021\"\n",
    "# Get limits\n",
    "beginningDate = datetime.strptime(startYear, \"%Y\").date()\n",
    "beginningYear = beginningDate.year\n",
    "daysInMonth = {1:31, 2:28, 3:31, 4:30, 5:31, 6:30, 7:31, 8:31, 9:30, 10:31, 11:30, 12:31}\n",
    "emptyNutrition = [None, None, None, None, None, None]"
   ]
  },
  {
   "cell_type": "code",
   "execution_count": 1,
   "metadata": {},
   "outputs": [
    {
     "name": "stdout",
     "output_type": "stream",
     "text": [
      "\n",
      "################################################\n",
      "# Scraping MyFitnessPal                        #\n",
      "# Make sure your account is set to public      #\n",
      "# and your username and pass are in keychain   #\n",
      "################################################\n",
      "\n"
     ]
    },
    {
     "ename": "NameError",
     "evalue": "name 'datetime' is not defined",
     "output_type": "error",
     "traceback": [
      "\u001b[0;31m---------------------------------------------------------------------------\u001b[0m",
      "\u001b[0;31mNameError\u001b[0m                                 Traceback (most recent call last)",
      "\u001b[0;32m<ipython-input-1-73cf0276af0a>\u001b[0m in \u001b[0;36m<module>\u001b[0;34m\u001b[0m\n\u001b[1;32m      7\u001b[0m \u001b[0mprint\u001b[0m\u001b[0;34m(\u001b[0m\u001b[0;34m\"\"\u001b[0m\u001b[0;34m)\u001b[0m\u001b[0;34m\u001b[0m\u001b[0;34m\u001b[0m\u001b[0m\n\u001b[1;32m      8\u001b[0m \u001b[0;34m\u001b[0m\u001b[0m\n\u001b[0;32m----> 9\u001b[0;31m \u001b[0mtoday\u001b[0m \u001b[0;34m=\u001b[0m \u001b[0mdatetime\u001b[0m\u001b[0;34m.\u001b[0m\u001b[0mnow\u001b[0m\u001b[0;34m(\u001b[0m\u001b[0;34m)\u001b[0m\u001b[0;34m.\u001b[0m\u001b[0mdate\u001b[0m\u001b[0;34m(\u001b[0m\u001b[0;34m)\u001b[0m\u001b[0;34m\u001b[0m\u001b[0;34m\u001b[0m\u001b[0m\n\u001b[0m\u001b[1;32m     10\u001b[0m \u001b[0mcurrentYear\u001b[0m \u001b[0;34m=\u001b[0m \u001b[0mtoday\u001b[0m\u001b[0;34m.\u001b[0m\u001b[0myear\u001b[0m\u001b[0;34m\u001b[0m\u001b[0;34m\u001b[0m\u001b[0m\n\u001b[1;32m     11\u001b[0m \u001b[0;34m\u001b[0m\u001b[0m\n",
      "\u001b[0;31mNameError\u001b[0m: name 'datetime' is not defined"
     ]
    }
   ],
   "source": [
    "print(\"\")\n",
    "print(\"################################################\")\n",
    "print(\"# Scraping MyFitnessPal                        #\")\n",
    "print(\"# Make sure your account is set to public      #\")\n",
    "print(\"# and your username and pass are in keychain   #\")\n",
    "print(\"################################################\")\n",
    "print(\"\")\n",
    "\n",
    "today = datetime.now().date()\n",
    "currentYear = today.year\n",
    "\n",
    "print(\"\")\n",
    "print(\"################################################\")\n",
    "print(\"# Get nutrition and weight information         #\")\n",
    "print(\"################################################\")\n",
    "print(\"\")"
   ]
  },
  {
   "cell_type": "code",
   "execution_count": 19,
   "metadata": {
    "scrolled": true
   },
   "outputs": [
    {
     "name": "stdout",
     "output_type": "stream",
     "text": [
      "2021: 2021-1-1\n",
      "2021-1-2\n",
      "2021-1-3\n",
      "2021-1-4\n",
      "2021-1-5\n",
      "2021-1-6\n",
      "2021-1-7\n",
      "2021-1-8\n",
      "2021-1-9\n",
      "2021-1-10\n",
      "2021-1-11\n",
      "2021-1-12\n",
      "2021-1-13\n",
      "2021-1-14\n",
      "2021-1-15\n",
      "2021-1-16\n",
      "2021-1-17\n",
      "2021-1-18\n",
      "2021-1-19\n",
      "2021-1-20\n",
      "2021-1-21\n",
      "2021-1-22\n",
      "2021-1-23\n",
      "2021-1-24\n",
      "2021-1-25\n",
      "2021-1-26\n",
      "2021-1-27\n",
      "2021-1-28\n",
      "2021-1-29\n",
      "2021-1-30\n",
      "2021-1-31\n",
      "#2021-2-1\n",
      "2021-2-2\n",
      "2021-2-3\n",
      "2021-2-4\n",
      "2021-2-5\n",
      "2021-2-6\n",
      "2021-2-7\n",
      "2021-2-8\n",
      "2021-2-9\n",
      "2021-2-10\n",
      "2021-2-11\n",
      "2021-2-12\n",
      "2021-2-13\n",
      "2021-2-14\n",
      "2021-2-15\n",
      "2021-2-16\n",
      "2021-2-17\n",
      "2021-2-18\n",
      "2021-2-19\n",
      "2021-2-20\n",
      "2021-2-21\n",
      "2021-2-22\n",
      "2021-2-23\n",
      "2021-2-24\n",
      "2021-2-25\n",
      "2021-2-26\n",
      "2021-2-27\n",
      "2021-2-28\n",
      "#2021-3-1\n",
      "2021-3-2\n",
      "2021-3-3\n",
      "2021-3-4\n",
      "2021-3-5\n",
      "2021-3-6\n",
      "2021-3-7\n",
      "2021-3-8\n",
      "2021-3-9\n",
      "2021-3-10\n",
      "2021-3-11\n",
      "2021-3-12\n",
      "2021-3-13\n",
      "2021-3-14\n",
      "2021-3-15\n",
      "2021-3-16\n",
      "2021-3-17\n",
      "2021-3-18\n",
      "2021-3-19\n",
      "2021-3-20\n",
      "2021-3-21\n",
      "2021-3-22\n",
      "2021-3-23\n",
      "2021-3-24\n",
      "2021-3-25\n",
      "2021-3-26\n",
      "2021-3-27\n",
      "2021-3-28\n",
      "2021-3-29\n",
      "2021-3-30\n",
      "2021-3-31\n",
      "#2021-4-1\n",
      "2021-4-2\n",
      "2021-4-3\n",
      "2021-4-4\n",
      "2021-4-5\n",
      "2021-4-6\n",
      "2021-4-7\n",
      "2021-4-8\n",
      "2021-4-9\n",
      "2021-4-10\n",
      "2021-4-11\n",
      "2021-4-12\n",
      "2021-4-13\n",
      "2021-4-14\n",
      "2021-4-15\n",
      "2021-4-16\n",
      "2021-4-17\n",
      "2021-4-18\n",
      "2021-4-19\n",
      "2021-4-20\n",
      "2021-4-21\n",
      "2021-4-22\n",
      "2021-4-23\n",
      "2021-4-24\n",
      "2021-4-25\n",
      "2021-4-26\n",
      "2021-4-27\n",
      "2021-4-28\n",
      "2021-4-29\n",
      "2021-4-30\n",
      "#2021-5-1\n",
      "2021-5-2\n",
      "2021-5-3\n",
      "2021-5-4\n",
      "2021-5-5\n",
      "2021-5-6\n",
      "2021-5-7\n",
      "2021-5-8\n",
      "2021-5-9\n",
      "2021-5-10\n",
      "2021-5-11\n",
      "2021-5-12\n",
      "2021-5-13\n",
      "2021-5-14\n",
      "2021-5-15\n",
      "2021-5-16\n",
      "2021-5-17\n",
      "2021-5-18\n",
      "2021-5-19\n",
      "2021-5-20\n",
      "2021-5-21\n",
      "2021-5-22\n",
      "2021-5-23\n",
      "2021-5-24\n",
      "2021-5-25\n",
      "2021-5-26\n",
      "2021-5-27\n",
      "2021-5-28\n",
      "2021-5-29\n",
      "2021-5-30\n",
      "2021-5-31\n",
      "#2021-6-1\n",
      "2021-6-2\n",
      "2021-6-3\n",
      "2021-6-4\n",
      "2021-6-5\n",
      "2021-6-6\n",
      "2021-6-7\n",
      "2021-6-8\n",
      "2021-6-9\n",
      "2021-6-10\n",
      "2021-6-11\n",
      "2021-6-12\n",
      "2021-6-13\n",
      "2021-6-14\n",
      "2021-6-15\n",
      "2021-6-16\n",
      "2021-6-17\n",
      "2021-6-18\n",
      "2021-6-19\n",
      "2021-6-20\n",
      "2021-6-21\n",
      "2021-6-22\n",
      "2021-6-23\n",
      "2021-6-24\n",
      "2021-6-25\n",
      "2021-6-26\n",
      "2021-6-27\n",
      "2021-6-28\n",
      "2021-6-29\n",
      "2021-6-30\n",
      "#2021-7-1\n",
      "2021-7-2\n",
      "2021-7-3\n",
      "2021-7-4\n",
      "2021-7-5\n",
      "2021-7-6\n",
      "2021-7-7\n",
      "2021-7-8\n",
      "2021-7-9\n",
      "2021-7-10\n",
      "2021-7-11\n",
      "2021-7-12\n",
      "2021-7-13\n",
      "2021-7-14\n",
      "2021-7-15\n",
      "2021-7-16\n",
      "2021-7-17\n",
      "2021-7-18\n",
      "2021-7-19\n",
      "2021-7-20\n",
      "2021-7-21\n",
      "2021-7-22\n",
      "2021-7-23\n",
      "2021-7-24\n",
      "2021-7-25\n",
      "2021-7-26\n",
      "2021-7-27\n",
      "2021-7-28\n",
      "2021-7-29\n",
      "2021-7-30\n",
      "2021-7-31\n",
      "#2021-8-1\n",
      "2021-8-2\n",
      "2021-8-3\n",
      "2021-8-4\n",
      "2021-8-5\n",
      "2021-8-6\n",
      "2021-8-7\n",
      "2021-8-8\n",
      "2021-8-9\n",
      "2021-8-10\n",
      "2021-8-11\n",
      "2021-8-12\n",
      "2021-8-13\n",
      "2021-8-14\n",
      "2021-8-15\n",
      "2021-8-16\n",
      "2021-8-17\n",
      "2021-8-18\n",
      "2021-8-19\n",
      "2021-8-20\n",
      "2021-8-21\n",
      "2021-8-22\n",
      "2021-8-23\n",
      "2021-8-24\n",
      "2021-8-25\n",
      "2021-8-26\n",
      "2021-8-27\n",
      "2021-8-28\n",
      "2021-8-29\n",
      "2021-8-30\n",
      "2021-8-31\n",
      "#2021-9-1\n",
      "2021-9-2\n",
      "2021-9-3\n",
      "2021-9-4\n",
      "2021-9-5\n",
      "2021-9-6\n",
      "2021-9-7\n",
      "2021-9-8\n",
      "2021-9-9\n",
      "2021-9-10\n",
      "2021-9-11\n",
      "#### -- Done.\n"
     ]
    }
   ],
   "source": [
    "for yearIndex in range(beginningYear, currentYear+1):\n",
    "    \n",
    "    # Create a file name based on this year's data\n",
    "    thisFileName = \"healthData_%s.csv\" % yearIndex\n",
    "\n",
    "    # Open CSV as read and write.\n",
    "    # If file exists, open for read / write\n",
    "    #   else, create file, write only.\n",
    "    try:\n",
    "        f = open(thisFileName, \"r+\")        # Check to see if file is complete,\n",
    "        row_count = sum(1 for row in f)     # else, overwrite the file\n",
    "        if(row_count != 366):               # A year of rows plus headers, and an empty line at end.\n",
    "            f = open(thisFileName, \"w+\")\n",
    "            row_count = 0\n",
    "    except EnvironmentError:\n",
    "        f = open(thisFileName, \"w+\")        # If file does not exist, create it.\n",
    "        row_count = 0\n",
    "    \n",
    "    writer = csv.writer(f)\n",
    "    \n",
    "    # Check number of lines. If the year wasn't captured, start over.\n",
    "    if(row_count < 365):\n",
    "        # Write headers for totals\n",
    "        writer.writerow([\"Date\",\"Calories\", \"Carbohydrates\", \"Fat\", \"Protein\", \"Sodium\", \"Sugar\", \"Weight\", \"Body Fat %\"])\n",
    "        sys.stdout.write(str(yearIndex)+\": \")   # Print has a linefeed.\n",
    "        sys.stdout.flush()\n",
    "        for monthIndex in range(1, 12+1):\n",
    "                \n",
    "            beginningOfMonthStr = \"%s-%s-%s\" % (yearIndex, monthIndex, 1)\n",
    "            endOfMonthStr = \"%s-%s-%s\" % (yearIndex, monthIndex, daysInMonth[monthIndex])\n",
    "\n",
    "            beginningOfMonth = datetime.strptime(beginningOfMonthStr, \"%Y-%m-%d\").date()\n",
    "            endOfMonth = datetime.strptime(endOfMonthStr, \"%Y-%m-%d\").date()\n",
    "            \n",
    "            thisMonthsWeights = dict(client.get_measurements('Weight', beginningOfMonth, endOfMonth))\n",
    "            thisMonthsBodyfats = dict(client.get_measurements('Body Fat %', beginningOfMonth, endOfMonth))\n",
    "\n",
    "\n",
    "            for dayIndex in range(1, daysInMonth[monthIndex]+1):\n",
    "                \n",
    "                fullDateIndex = \"%s-%s-%s\" % (yearIndex, monthIndex, dayIndex)\n",
    "                thisDate = datetime.strptime(fullDateIndex, \"%Y-%m-%d\").date()\n",
    "                if(thisDate > today):\n",
    "                    break;\n",
    "\n",
    "                thisDaysNutritionData = client.get_date(yearIndex, monthIndex, dayIndex)\n",
    "                thisDaysNutritionDataDict = thisDaysNutritionData.totals\n",
    "                thisDaysNutritionValues = thisDaysNutritionDataDict.values()\n",
    "\n",
    "                thisDaysWeight = [(thisMonthsWeights.get(thisDate))]\n",
    "                thisDaysBodyfat = [(thisMonthsBodyfats.get(thisDate))]\n",
    "                \n",
    "                if(len(thisDaysNutritionValues) < 6):\n",
    "                    thisDaysNutritionValues = emptyNutrition\n",
    "                print(fullDateIndex)\n",
    "\n",
    "                dataRow = [fullDateIndex] + list(thisDaysNutritionValues) + thisDaysWeight + thisDaysBodyfat\n",
    "                if dataRow:\n",
    "                    writer.writerow(dataRow)\n",
    "\n",
    "            sys.stdout.write(\"#\")\n",
    "            sys.stdout.flush()\n",
    "        print(\" -- Done.\")\n",
    "        f.close()\n",
    "    else:\n",
    "        print((str(yearIndex)+\": Exists and is complete.\"))"
   ]
  },
  {
   "cell_type": "code",
   "execution_count": 251,
   "metadata": {},
   "outputs": [],
   "source": [
    "# Analyze the data"
   ]
  },
  {
   "cell_type": "code",
   "execution_count": 117,
   "metadata": {},
   "outputs": [],
   "source": [
    "data = pd.read_csv('healthData_2021.csv')\n",
    "data['Date'] = pd.to_datetime(data['Date'], format='%Y-%m-%d')\n",
    "data = data.dropna().reset_index(drop=True)\n",
    "data['Macro_calories'] = data['Carbohydrates']*4 + data['Protein']*4 + data['Fat']*9\n",
    "for col in data.columns[1:]:\n",
    "    data[f'{col}_MA'] = data.loc[:,col].rolling(window=7, min_periods=1).mean()\n",
    "data = data.sort_values(by='Date', ascending=False)\n",
    "data.to_csv('healthData_2021.csv')\n",
    "\n"
   ]
  },
  {
   "cell_type": "code",
   "execution_count": null,
   "metadata": {},
   "outputs": [],
   "source": []
  }
 ],
 "metadata": {
  "kernelspec": {
   "display_name": "Python personal",
   "language": "python",
   "name": "personal"
  },
  "language_info": {
   "codemirror_mode": {
    "name": "ipython",
    "version": 3
   },
   "file_extension": ".py",
   "mimetype": "text/x-python",
   "name": "python",
   "nbconvert_exporter": "python",
   "pygments_lexer": "ipython3",
   "version": "3.8.2"
  }
 },
 "nbformat": 4,
 "nbformat_minor": 4
}
